{
  "nbformat": 4,
  "nbformat_minor": 0,
  "metadata": {
    "colab": {
      "provenance": [],
      "toc_visible": true,
      "authorship_tag": "ABX9TyMrTcX8RvCcmOmcIrh/c147",
      "include_colab_link": true
    },
    "kernelspec": {
      "name": "python3",
      "display_name": "Python 3"
    },
    "language_info": {
      "name": "python"
    }
  },
  "cells": [
    {
      "cell_type": "markdown",
      "metadata": {
        "id": "view-in-github",
        "colab_type": "text"
      },
      "source": [
        "<a href=\"https://colab.research.google.com/github/sum1t-here/ML/blob/main/textblob.ipynb\" target=\"_parent\"><img src=\"https://colab.research.google.com/assets/colab-badge.svg\" alt=\"Open In Colab\"/></a>"
      ]
    },
    {
      "cell_type": "markdown",
      "source": [
        "# Sentiment analysis"
      ],
      "metadata": {
        "id": "TwpkEHAuNTxz"
      }
    },
    {
      "cell_type": "markdown",
      "source": [
        "Sentiment analysis using TextBlob , it lies between -1 to 1 if -1 then it is negative, 0 = neutral and 1 is positive"
      ],
      "metadata": {
        "id": "ab86G1w9MnCi"
      }
    },
    {
      "cell_type": "code",
      "execution_count": null,
      "metadata": {
        "id": "KSwWOKgbLdvt"
      },
      "outputs": [],
      "source": [
        "from  textblob import TextBlob"
      ]
    },
    {
      "cell_type": "code",
      "source": [
        "reviews = [\n",
        "    \"The product is good\",\n",
        "    \"The product could be great\",\n",
        "    \"Tastes good\",\n",
        "    \"The product is worst\",\n",
        "    \"Terrible product not recommended\"\n",
        "]"
      ],
      "metadata": {
        "id": "SOVp6EXBMRk1"
      },
      "execution_count": 13,
      "outputs": []
    },
    {
      "cell_type": "code",
      "source": [
        "sentiments = [TextBlob(review).sentiment.polarity for review in reviews]\n",
        "sentiments"
      ],
      "metadata": {
        "id": "ArVSga8NM3-I",
        "colab": {
          "base_uri": "https://localhost:8080/"
        },
        "outputId": "f8c99dc7-c54e-4bec-afd1-8d0a8b264493"
      },
      "execution_count": 14,
      "outputs": [
        {
          "output_type": "execute_result",
          "data": {
            "text/plain": [
              "[0.7, 0.8, 0.7, -1.0, -1.0]"
            ]
          },
          "metadata": {},
          "execution_count": 14
        }
      ]
    }
  ]
}