{
 "cells": [
  {
   "cell_type": "code",
   "execution_count": 5,
   "metadata": {},
   "outputs": [
    {
     "data": {
      "text/html": [
       "<div>\n",
       "<style scoped>\n",
       "    .dataframe tbody tr th:only-of-type {\n",
       "        vertical-align: middle;\n",
       "    }\n",
       "\n",
       "    .dataframe tbody tr th {\n",
       "        vertical-align: top;\n",
       "    }\n",
       "\n",
       "    .dataframe thead th {\n",
       "        text-align: right;\n",
       "    }\n",
       "</style>\n",
       "<table border=\"1\" class=\"dataframe\">\n",
       "  <thead>\n",
       "    <tr style=\"text-align: right;\">\n",
       "      <th></th>\n",
       "      <th>Course</th>\n",
       "      <th>Duration</th>\n",
       "      <th>City</th>\n",
       "    </tr>\n",
       "  </thead>\n",
       "  <tbody>\n",
       "    <tr>\n",
       "      <th>0</th>\n",
       "      <td>AI</td>\n",
       "      <td>2</td>\n",
       "      <td>Banglore</td>\n",
       "    </tr>\n",
       "    <tr>\n",
       "      <th>1</th>\n",
       "      <td>ML</td>\n",
       "      <td>3</td>\n",
       "      <td>Guwahati</td>\n",
       "    </tr>\n",
       "    <tr>\n",
       "      <th>2</th>\n",
       "      <td>BlockChain</td>\n",
       "      <td>1</td>\n",
       "      <td>Dispur</td>\n",
       "    </tr>\n",
       "    <tr>\n",
       "      <th>3</th>\n",
       "      <td>Web devlopment</td>\n",
       "      <td>4</td>\n",
       "      <td>Dehradun</td>\n",
       "    </tr>\n",
       "    <tr>\n",
       "      <th>4</th>\n",
       "      <td>Cloud Computing</td>\n",
       "      <td>5</td>\n",
       "      <td>Nagpur</td>\n",
       "    </tr>\n",
       "  </tbody>\n",
       "</table>\n",
       "</div>"
      ],
      "text/plain": [
       "            Course  Duration      City\n",
       "0               AI         2  Banglore\n",
       "1               ML         3  Guwahati\n",
       "2       BlockChain         1    Dispur\n",
       "3   Web devlopment         4  Dehradun\n",
       "4  Cloud Computing         5    Nagpur"
      ]
     },
     "execution_count": 5,
     "metadata": {},
     "output_type": "execute_result"
    }
   ],
   "source": [
    "import pandas as pd\n",
    "\n",
    "#Example data frame\n",
    "\n",
    "data = {\n",
    "    'Course': ['AI', 'ML', 'BlockChain', 'Web devlopment', 'Cloud Computing'],\n",
    "    'Duration': [2, 3, 1, 4, 5],\n",
    "    'City': ['Banglore', 'Guwahati', 'Dispur', 'Dehradun', 'Nagpur']\n",
    "}\n",
    "\n",
    "df = pd.DataFrame(data)\n",
    "df"
   ]
  },
  {
   "cell_type": "code",
   "execution_count": 3,
   "metadata": {},
   "outputs": [
    {
     "name": "stdout",
     "output_type": "stream",
     "text": [
      "Corse\n",
      "Duration\n",
      "City\n"
     ]
    }
   ],
   "source": [
    "for i in df:\n",
    "    print(i)"
   ]
  },
  {
   "cell_type": "code",
   "execution_count": 6,
   "metadata": {},
   "outputs": [
    {
     "data": {
      "text/plain": [
       "0                 AI\n",
       "1                 ML\n",
       "2         BlockChain\n",
       "3     Web devlopment\n",
       "4    Cloud Computing\n",
       "Name: Course, dtype: object"
      ]
     },
     "execution_count": 6,
     "metadata": {},
     "output_type": "execute_result"
    }
   ],
   "source": [
    "df['Course']"
   ]
  },
  {
   "cell_type": "code",
   "execution_count": 7,
   "metadata": {},
   "outputs": [
    {
     "name": "stdout",
     "output_type": "stream",
     "text": [
      "0                 AI\n",
      "1                 ML\n",
      "2         BlockChain\n",
      "3     Web devlopment\n",
      "4    Cloud Computing\n",
      "Name: Course, dtype: object\n",
      "0    2\n",
      "1    3\n",
      "2    1\n",
      "3    4\n",
      "4    5\n",
      "Name: Duration, dtype: int64\n",
      "0    Banglore\n",
      "1    Guwahati\n",
      "2      Dispur\n",
      "3    Dehradun\n",
      "4      Nagpur\n",
      "Name: City, dtype: object\n"
     ]
    }
   ],
   "source": [
    "for i in df:\n",
    "    print(df[i])"
   ]
  },
  {
   "cell_type": "markdown",
   "metadata": {},
   "source": [
    "iter tools"
   ]
  },
  {
   "cell_type": "code",
   "execution_count": 8,
   "metadata": {},
   "outputs": [
    {
     "name": "stdout",
     "output_type": "stream",
     "text": [
      "(0, Course            AI\n",
      "Duration           2\n",
      "City        Banglore\n",
      "Name: 0, dtype: object)\n",
      "(1, Course            ML\n",
      "Duration           3\n",
      "City        Guwahati\n",
      "Name: 1, dtype: object)\n",
      "(2, Course      BlockChain\n",
      "Duration             1\n",
      "City            Dispur\n",
      "Name: 2, dtype: object)\n",
      "(3, Course      Web devlopment\n",
      "Duration                 4\n",
      "City              Dehradun\n",
      "Name: 3, dtype: object)\n",
      "(4, Course      Cloud Computing\n",
      "Duration                  5\n",
      "City                 Nagpur\n",
      "Name: 4, dtype: object)\n"
     ]
    }
   ],
   "source": [
    "for i in df.iterrows():\n",
    "    print(i)"
   ]
  },
  {
   "cell_type": "code",
   "execution_count": 10,
   "metadata": {},
   "outputs": [
    {
     "name": "stdout",
     "output_type": "stream",
     "text": [
      "index 0   \n",
      "Row value Course            AI\n",
      "Duration           2\n",
      "City        Banglore\n",
      "Name: 0, dtype: object\n",
      "index 1   \n",
      "Row value Course            ML\n",
      "Duration           3\n",
      "City        Guwahati\n",
      "Name: 1, dtype: object\n",
      "index 2   \n",
      "Row value Course      BlockChain\n",
      "Duration             1\n",
      "City            Dispur\n",
      "Name: 2, dtype: object\n",
      "index 3   \n",
      "Row value Course      Web devlopment\n",
      "Duration                 4\n",
      "City              Dehradun\n",
      "Name: 3, dtype: object\n",
      "index 4   \n",
      "Row value Course      Cloud Computing\n",
      "Duration                  5\n",
      "City                 Nagpur\n",
      "Name: 4, dtype: object\n"
     ]
    }
   ],
   "source": [
    "for i, j in df.iterrows():\n",
    "    print(f'index {i}   \\nRow value {j}')"
   ]
  },
  {
   "cell_type": "code",
   "execution_count": 11,
   "metadata": {},
   "outputs": [
    {
     "name": "stdout",
     "output_type": "stream",
     "text": [
      "index 0   \n",
      "Row value AI\n",
      "index 1   \n",
      "Row value ML\n",
      "index 2   \n",
      "Row value BlockChain\n",
      "index 3   \n",
      "Row value Web devlopment\n",
      "index 4   \n",
      "Row value Cloud Computing\n"
     ]
    }
   ],
   "source": [
    "for i, j in df.iterrows():\n",
    "    print(f'index {i}   \\nRow value {j[\"Course\"]}')"
   ]
  },
  {
   "cell_type": "code",
   "execution_count": 12,
   "metadata": {},
   "outputs": [
    {
     "data": {
      "text/plain": [
       "<map at 0x155b95d50>"
      ]
     },
     "execution_count": 12,
     "metadata": {},
     "output_type": "execute_result"
    }
   ],
   "source": [
    "df.itertuples()"
   ]
  },
  {
   "cell_type": "code",
   "execution_count": 13,
   "metadata": {},
   "outputs": [
    {
     "name": "stdout",
     "output_type": "stream",
     "text": [
      "Pandas(Index=0, Course='AI', Duration=2, City='Banglore')\n",
      "Pandas(Index=1, Course='ML', Duration=3, City='Guwahati')\n",
      "Pandas(Index=2, Course='BlockChain', Duration=1, City='Dispur')\n",
      "Pandas(Index=3, Course='Web devlopment', Duration=4, City='Dehradun')\n",
      "Pandas(Index=4, Course='Cloud Computing', Duration=5, City='Nagpur')\n"
     ]
    }
   ],
   "source": [
    "for i in df.itertuples():\n",
    "    print(i)"
   ]
  },
  {
   "cell_type": "code",
   "execution_count": 16,
   "metadata": {},
   "outputs": [
    {
     "name": "stdout",
     "output_type": "stream",
     "text": [
      "index = <built-in method index of Pandas object at 0x156f20360> \n",
      "Course: AI\n",
      "\n",
      "\n",
      "index = <built-in method index of Pandas object at 0x156d97830> \n",
      "Course: ML\n",
      "\n",
      "\n",
      "index = <built-in method index of Pandas object at 0x156d976f0> \n",
      "Course: BlockChain\n",
      "\n",
      "\n",
      "index = <built-in method index of Pandas object at 0x156d97830> \n",
      "Course: Web devlopment\n",
      "\n",
      "\n",
      "index = <built-in method index of Pandas object at 0x156d976f0> \n",
      "Course: Cloud Computing\n",
      "\n",
      "\n"
     ]
    }
   ],
   "source": [
    "for i in df.itertuples():\n",
    "    print(f\"index = {i.index} \\nCourse: {i.Course}\\n\\n\")"
   ]
  },
  {
   "cell_type": "code",
   "execution_count": 17,
   "metadata": {},
   "outputs": [
    {
     "data": {
      "text/plain": [
       "0    2\n",
       "1    4\n",
       "2    6\n",
       "3    8\n",
       "dtype: int64"
      ]
     },
     "execution_count": 17,
     "metadata": {},
     "output_type": "execute_result"
    }
   ],
   "source": [
    "series = pd.Series([2,4,6,8])\n",
    "series"
   ]
  },
  {
   "cell_type": "code",
   "execution_count": 18,
   "metadata": {},
   "outputs": [
    {
     "name": "stdout",
     "output_type": "stream",
     "text": [
      "2\n",
      "4\n",
      "6\n",
      "8\n"
     ]
    }
   ],
   "source": [
    "for i in series:\n",
    "    print(i)"
   ]
  },
  {
   "cell_type": "code",
   "execution_count": 20,
   "metadata": {},
   "outputs": [
    {
     "data": {
      "text/plain": [
       "0                 AI\n",
       "1                 ML\n",
       "2         BlockChain\n",
       "3     Web devlopment\n",
       "4    Cloud Computing\n",
       "Name: Course, dtype: object"
      ]
     },
     "execution_count": 20,
     "metadata": {},
     "output_type": "execute_result"
    }
   ],
   "source": [
    "df['Course']"
   ]
  },
  {
   "cell_type": "code",
   "execution_count": 19,
   "metadata": {},
   "outputs": [
    {
     "name": "stdout",
     "output_type": "stream",
     "text": [
      "AI\n",
      "ML\n",
      "BlockChain\n",
      "Web devlopment\n",
      "Cloud Computing\n"
     ]
    }
   ],
   "source": [
    "for i in df['Course']:\n",
    "    print(i)"
   ]
  },
  {
   "cell_type": "markdown",
   "metadata": {},
   "source": [
    "Conditional iteration"
   ]
  },
  {
   "cell_type": "code",
   "execution_count": 21,
   "metadata": {},
   "outputs": [
    {
     "data": {
      "text/html": [
       "<div>\n",
       "<style scoped>\n",
       "    .dataframe tbody tr th:only-of-type {\n",
       "        vertical-align: middle;\n",
       "    }\n",
       "\n",
       "    .dataframe tbody tr th {\n",
       "        vertical-align: top;\n",
       "    }\n",
       "\n",
       "    .dataframe thead th {\n",
       "        text-align: right;\n",
       "    }\n",
       "</style>\n",
       "<table border=\"1\" class=\"dataframe\">\n",
       "  <thead>\n",
       "    <tr style=\"text-align: right;\">\n",
       "      <th></th>\n",
       "      <th>Course</th>\n",
       "      <th>Duration</th>\n",
       "      <th>City</th>\n",
       "    </tr>\n",
       "  </thead>\n",
       "  <tbody>\n",
       "    <tr>\n",
       "      <th>1</th>\n",
       "      <td>ML</td>\n",
       "      <td>3</td>\n",
       "      <td>Guwahati</td>\n",
       "    </tr>\n",
       "    <tr>\n",
       "      <th>3</th>\n",
       "      <td>Web devlopment</td>\n",
       "      <td>4</td>\n",
       "      <td>Dehradun</td>\n",
       "    </tr>\n",
       "    <tr>\n",
       "      <th>4</th>\n",
       "      <td>Cloud Computing</td>\n",
       "      <td>5</td>\n",
       "      <td>Nagpur</td>\n",
       "    </tr>\n",
       "  </tbody>\n",
       "</table>\n",
       "</div>"
      ],
      "text/plain": [
       "            Course  Duration      City\n",
       "1               ML         3  Guwahati\n",
       "3   Web devlopment         4  Dehradun\n",
       "4  Cloud Computing         5    Nagpur"
      ]
     },
     "execution_count": 21,
     "metadata": {},
     "output_type": "execute_result"
    }
   ],
   "source": [
    "df[df['Duration'] > 2]"
   ]
  },
  {
   "cell_type": "code",
   "execution_count": 22,
   "metadata": {},
   "outputs": [
    {
     "name": "stdout",
     "output_type": "stream",
     "text": [
      "index 1   \n",
      "Row value ML\n",
      "index 3   \n",
      "Row value Web devlopment\n",
      "index 4   \n",
      "Row value Cloud Computing\n"
     ]
    }
   ],
   "source": [
    "for i, j in df[df['Duration'] > 2].iterrows():\n",
    "    print(f'index {i}   \\nRow value {j[\"Course\"]}')"
   ]
  }
 ],
 "metadata": {
  "kernelspec": {
   "display_name": "Python 3",
   "language": "python",
   "name": "python3"
  },
  "language_info": {
   "codemirror_mode": {
    "name": "ipython",
    "version": 3
   },
   "file_extension": ".py",
   "mimetype": "text/x-python",
   "name": "python",
   "nbconvert_exporter": "python",
   "pygments_lexer": "ipython3",
   "version": "3.12.0"
  }
 },
 "nbformat": 4,
 "nbformat_minor": 2
}
