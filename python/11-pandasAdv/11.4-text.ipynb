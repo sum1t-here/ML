{
 "cells": [
  {
   "cell_type": "code",
   "execution_count": 1,
   "metadata": {},
   "outputs": [
    {
     "name": "stdout",
     "output_type": "stream",
     "text": [
      "                                     Text\n",
      "0                     Hello, how are you?\n",
      "1                         Pandas is great\n",
      "2  Text data handling is pandas is useful\n"
     ]
    }
   ],
   "source": [
    "import pandas as pd\n",
    "# creating a Dataframe with Text Data\n",
    "data = {'Text':['Hello, how are you?', 'Pandas is great', 'Text data handling is pandas is useful']}\n",
    "df = pd.DataFrame(data)\n",
    "print(df)"
   ]
  },
  {
   "cell_type": "code",
   "execution_count": 2,
   "metadata": {},
   "outputs": [
    {
     "data": {
      "text/html": [
       "<div>\n",
       "<style scoped>\n",
       "    .dataframe tbody tr th:only-of-type {\n",
       "        vertical-align: middle;\n",
       "    }\n",
       "\n",
       "    .dataframe tbody tr th {\n",
       "        vertical-align: top;\n",
       "    }\n",
       "\n",
       "    .dataframe thead th {\n",
       "        text-align: right;\n",
       "    }\n",
       "</style>\n",
       "<table border=\"1\" class=\"dataframe\">\n",
       "  <thead>\n",
       "    <tr style=\"text-align: right;\">\n",
       "      <th></th>\n",
       "      <th>Text</th>\n",
       "      <th>Lower</th>\n",
       "    </tr>\n",
       "  </thead>\n",
       "  <tbody>\n",
       "    <tr>\n",
       "      <th>0</th>\n",
       "      <td>Hello, how are you?</td>\n",
       "      <td>hello, how are you?</td>\n",
       "    </tr>\n",
       "    <tr>\n",
       "      <th>1</th>\n",
       "      <td>Pandas is great</td>\n",
       "      <td>pandas is great</td>\n",
       "    </tr>\n",
       "    <tr>\n",
       "      <th>2</th>\n",
       "      <td>Text data handling is pandas is useful</td>\n",
       "      <td>text data handling is pandas is useful</td>\n",
       "    </tr>\n",
       "  </tbody>\n",
       "</table>\n",
       "</div>"
      ],
      "text/plain": [
       "                                     Text  \\\n",
       "0                     Hello, how are you?   \n",
       "1                         Pandas is great   \n",
       "2  Text data handling is pandas is useful   \n",
       "\n",
       "                                    Lower  \n",
       "0                     hello, how are you?  \n",
       "1                         pandas is great  \n",
       "2  text data handling is pandas is useful  "
      ]
     },
     "execution_count": 2,
     "metadata": {},
     "output_type": "execute_result"
    }
   ],
   "source": [
    "df['Lower'] = df['Text'].str.lower()\n",
    "df"
   ]
  },
  {
   "cell_type": "code",
   "execution_count": 3,
   "metadata": {},
   "outputs": [
    {
     "data": {
      "text/html": [
       "<div>\n",
       "<style scoped>\n",
       "    .dataframe tbody tr th:only-of-type {\n",
       "        vertical-align: middle;\n",
       "    }\n",
       "\n",
       "    .dataframe tbody tr th {\n",
       "        vertical-align: top;\n",
       "    }\n",
       "\n",
       "    .dataframe thead th {\n",
       "        text-align: right;\n",
       "    }\n",
       "</style>\n",
       "<table border=\"1\" class=\"dataframe\">\n",
       "  <thead>\n",
       "    <tr style=\"text-align: right;\">\n",
       "      <th></th>\n",
       "      <th>Text</th>\n",
       "      <th>Lower</th>\n",
       "      <th>Upper</th>\n",
       "    </tr>\n",
       "  </thead>\n",
       "  <tbody>\n",
       "    <tr>\n",
       "      <th>0</th>\n",
       "      <td>Hello, how are you?</td>\n",
       "      <td>hello, how are you?</td>\n",
       "      <td>HELLO, HOW ARE YOU?</td>\n",
       "    </tr>\n",
       "    <tr>\n",
       "      <th>1</th>\n",
       "      <td>Pandas is great</td>\n",
       "      <td>pandas is great</td>\n",
       "      <td>PANDAS IS GREAT</td>\n",
       "    </tr>\n",
       "    <tr>\n",
       "      <th>2</th>\n",
       "      <td>Text data handling is pandas is useful</td>\n",
       "      <td>text data handling is pandas is useful</td>\n",
       "      <td>TEXT DATA HANDLING IS PANDAS IS USEFUL</td>\n",
       "    </tr>\n",
       "  </tbody>\n",
       "</table>\n",
       "</div>"
      ],
      "text/plain": [
       "                                     Text  \\\n",
       "0                     Hello, how are you?   \n",
       "1                         Pandas is great   \n",
       "2  Text data handling is pandas is useful   \n",
       "\n",
       "                                    Lower  \\\n",
       "0                     hello, how are you?   \n",
       "1                         pandas is great   \n",
       "2  text data handling is pandas is useful   \n",
       "\n",
       "                                    Upper  \n",
       "0                     HELLO, HOW ARE YOU?  \n",
       "1                         PANDAS IS GREAT  \n",
       "2  TEXT DATA HANDLING IS PANDAS IS USEFUL  "
      ]
     },
     "execution_count": 3,
     "metadata": {},
     "output_type": "execute_result"
    }
   ],
   "source": [
    "df['Upper'] = df['Text'].str.upper()\n",
    "df"
   ]
  },
  {
   "cell_type": "code",
   "execution_count": 5,
   "metadata": {},
   "outputs": [
    {
     "data": {
      "text/html": [
       "<div>\n",
       "<style scoped>\n",
       "    .dataframe tbody tr th:only-of-type {\n",
       "        vertical-align: middle;\n",
       "    }\n",
       "\n",
       "    .dataframe tbody tr th {\n",
       "        vertical-align: top;\n",
       "    }\n",
       "\n",
       "    .dataframe thead th {\n",
       "        text-align: right;\n",
       "    }\n",
       "</style>\n",
       "<table border=\"1\" class=\"dataframe\">\n",
       "  <thead>\n",
       "    <tr style=\"text-align: right;\">\n",
       "      <th></th>\n",
       "      <th>Text</th>\n",
       "      <th>Lower</th>\n",
       "      <th>Upper</th>\n",
       "      <th>Length</th>\n",
       "    </tr>\n",
       "  </thead>\n",
       "  <tbody>\n",
       "    <tr>\n",
       "      <th>0</th>\n",
       "      <td>Hello, how are you?</td>\n",
       "      <td>hello, how are you?</td>\n",
       "      <td>HELLO, HOW ARE YOU?</td>\n",
       "      <td>19</td>\n",
       "    </tr>\n",
       "    <tr>\n",
       "      <th>1</th>\n",
       "      <td>Pandas is great</td>\n",
       "      <td>pandas is great</td>\n",
       "      <td>PANDAS IS GREAT</td>\n",
       "      <td>15</td>\n",
       "    </tr>\n",
       "    <tr>\n",
       "      <th>2</th>\n",
       "      <td>Text data handling is pandas is useful</td>\n",
       "      <td>text data handling is pandas is useful</td>\n",
       "      <td>TEXT DATA HANDLING IS PANDAS IS USEFUL</td>\n",
       "      <td>38</td>\n",
       "    </tr>\n",
       "  </tbody>\n",
       "</table>\n",
       "</div>"
      ],
      "text/plain": [
       "                                     Text  \\\n",
       "0                     Hello, how are you?   \n",
       "1                         Pandas is great   \n",
       "2  Text data handling is pandas is useful   \n",
       "\n",
       "                                    Lower  \\\n",
       "0                     hello, how are you?   \n",
       "1                         pandas is great   \n",
       "2  text data handling is pandas is useful   \n",
       "\n",
       "                                    Upper  Length  \n",
       "0                     HELLO, HOW ARE YOU?      19  \n",
       "1                         PANDAS IS GREAT      15  \n",
       "2  TEXT DATA HANDLING IS PANDAS IS USEFUL      38  "
      ]
     },
     "execution_count": 5,
     "metadata": {},
     "output_type": "execute_result"
    }
   ],
   "source": [
    "df['Length'] = df['Text'].str.len()\n",
    "df"
   ]
  },
  {
   "cell_type": "code",
   "execution_count": 6,
   "metadata": {},
   "outputs": [
    {
     "data": {
      "text/html": [
       "<div>\n",
       "<style scoped>\n",
       "    .dataframe tbody tr th:only-of-type {\n",
       "        vertical-align: middle;\n",
       "    }\n",
       "\n",
       "    .dataframe tbody tr th {\n",
       "        vertical-align: top;\n",
       "    }\n",
       "\n",
       "    .dataframe thead th {\n",
       "        text-align: right;\n",
       "    }\n",
       "</style>\n",
       "<table border=\"1\" class=\"dataframe\">\n",
       "  <thead>\n",
       "    <tr style=\"text-align: right;\">\n",
       "      <th></th>\n",
       "      <th>Text</th>\n",
       "      <th>Lower</th>\n",
       "      <th>Upper</th>\n",
       "      <th>Length</th>\n",
       "      <th>Words</th>\n",
       "    </tr>\n",
       "  </thead>\n",
       "  <tbody>\n",
       "    <tr>\n",
       "      <th>0</th>\n",
       "      <td>Hello, how are you?</td>\n",
       "      <td>hello, how are you?</td>\n",
       "      <td>HELLO, HOW ARE YOU?</td>\n",
       "      <td>19</td>\n",
       "      <td>[Hello,, how, are, you?]</td>\n",
       "    </tr>\n",
       "    <tr>\n",
       "      <th>1</th>\n",
       "      <td>Pandas is great</td>\n",
       "      <td>pandas is great</td>\n",
       "      <td>PANDAS IS GREAT</td>\n",
       "      <td>15</td>\n",
       "      <td>[Pandas, is, great]</td>\n",
       "    </tr>\n",
       "    <tr>\n",
       "      <th>2</th>\n",
       "      <td>Text data handling is pandas is useful</td>\n",
       "      <td>text data handling is pandas is useful</td>\n",
       "      <td>TEXT DATA HANDLING IS PANDAS IS USEFUL</td>\n",
       "      <td>38</td>\n",
       "      <td>[Text, data, handling, is, pandas, is, useful]</td>\n",
       "    </tr>\n",
       "  </tbody>\n",
       "</table>\n",
       "</div>"
      ],
      "text/plain": [
       "                                     Text  \\\n",
       "0                     Hello, how are you?   \n",
       "1                         Pandas is great   \n",
       "2  Text data handling is pandas is useful   \n",
       "\n",
       "                                    Lower  \\\n",
       "0                     hello, how are you?   \n",
       "1                         pandas is great   \n",
       "2  text data handling is pandas is useful   \n",
       "\n",
       "                                    Upper  Length  \\\n",
       "0                     HELLO, HOW ARE YOU?      19   \n",
       "1                         PANDAS IS GREAT      15   \n",
       "2  TEXT DATA HANDLING IS PANDAS IS USEFUL      38   \n",
       "\n",
       "                                            Words  \n",
       "0                        [Hello,, how, are, you?]  \n",
       "1                             [Pandas, is, great]  \n",
       "2  [Text, data, handling, is, pandas, is, useful]  "
      ]
     },
     "execution_count": 6,
     "metadata": {},
     "output_type": "execute_result"
    }
   ],
   "source": [
    "df['Words'] = df['Text'].str.split()\n",
    "df"
   ]
  },
  {
   "cell_type": "code",
   "execution_count": 7,
   "metadata": {},
   "outputs": [
    {
     "data": {
      "text/html": [
       "<div>\n",
       "<style scoped>\n",
       "    .dataframe tbody tr th:only-of-type {\n",
       "        vertical-align: middle;\n",
       "    }\n",
       "\n",
       "    .dataframe tbody tr th {\n",
       "        vertical-align: top;\n",
       "    }\n",
       "\n",
       "    .dataframe thead th {\n",
       "        text-align: right;\n",
       "    }\n",
       "</style>\n",
       "<table border=\"1\" class=\"dataframe\">\n",
       "  <thead>\n",
       "    <tr style=\"text-align: right;\">\n",
       "      <th></th>\n",
       "      <th>Text</th>\n",
       "    </tr>\n",
       "  </thead>\n",
       "  <tbody>\n",
       "    <tr>\n",
       "      <th>0</th>\n",
       "      <td>Hello, how are you?</td>\n",
       "    </tr>\n",
       "    <tr>\n",
       "      <th>1</th>\n",
       "      <td>Pandas is great</td>\n",
       "    </tr>\n",
       "    <tr>\n",
       "      <th>2</th>\n",
       "      <td>Text data handling is pandas is useful</td>\n",
       "    </tr>\n",
       "  </tbody>\n",
       "</table>\n",
       "</div>"
      ],
      "text/plain": [
       "                                     Text\n",
       "0                     Hello, how are you?\n",
       "1                         Pandas is great\n",
       "2  Text data handling is pandas is useful"
      ]
     },
     "execution_count": 7,
     "metadata": {},
     "output_type": "execute_result"
    }
   ],
   "source": [
    "data = {'Text':['Hello, how are you?', 'Pandas is great', 'Text data handling is Pandas is useful']}\n",
    "df2 = pd.DataFrame(data)\n",
    "df2"
   ]
  },
  {
   "cell_type": "markdown",
   "metadata": {},
   "source": [
    "## Extracting words starting with p"
   ]
  },
  {
   "cell_type": "code",
   "execution_count": 9,
   "metadata": {},
   "outputs": [
    {
     "data": {
      "text/plain": [
       "True"
      ]
     },
     "execution_count": 9,
     "metadata": {},
     "output_type": "execute_result"
    }
   ],
   "source": [
    "df2['Text'][1].startswith('P')"
   ]
  },
  {
   "cell_type": "code",
   "execution_count": 10,
   "metadata": {},
   "outputs": [
    {
     "data": {
      "text/plain": [
       "0          []\n",
       "1    [Pandas]\n",
       "2          []\n",
       "Name: Text, dtype: object"
      ]
     },
     "execution_count": 10,
     "metadata": {},
     "output_type": "execute_result"
    }
   ],
   "source": [
    "df2['Text'].str.split().apply(lambda x : [word for word in x if word.startswith('P')])"
   ]
  }
 ],
 "metadata": {
  "kernelspec": {
   "display_name": "Python 3",
   "language": "python",
   "name": "python3"
  },
  "language_info": {
   "codemirror_mode": {
    "name": "ipython",
    "version": 3
   },
   "file_extension": ".py",
   "mimetype": "text/x-python",
   "name": "python",
   "nbconvert_exporter": "python",
   "pygments_lexer": "ipython3",
   "version": "3.12.0"
  }
 },
 "nbformat": 4,
 "nbformat_minor": 2
}
